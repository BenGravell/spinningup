{
 "cells": [
  {
   "cell_type": "code",
   "execution_count": null,
   "id": "3fecb4ce",
   "metadata": {},
   "outputs": [],
   "source": [
    "import torch\n",
    "import torch.nn as nn\n",
    "from torch.distributions.categorical import Categorical\n",
    "from torch.optim import SGD, Adam, LBFGS\n",
    "import numpy as np\n",
    "import gym\n",
    "from gym.spaces import Discrete, Box"
   ]
  },
  {
   "cell_type": "code",
   "execution_count": null,
   "id": "3e8cac8e",
   "metadata": {},
   "outputs": [],
   "source": [
    "def mlp(sizes, activation=nn.Tanh, output_activation=nn.Identity):\n",
    "    # Build a multi layer perceptron\n",
    "    layers = []\n",
    "    num_hidden_layers = len(sizes) - 2\n",
    "    if num_hidden_layers < 0:\n",
    "        raise ValueError('Must specify at least 2 layer sizes (input and output)')\n",
    "    for j in range(num_hidden_layers + 1):\n",
    "        act = activation if j < num_hidden_layers else output_activation\n",
    "        layer1 = nn.Linear(sizes[j], sizes[j + 1])\n",
    "        layer2 = act()\n",
    "        layers += [layer1, layer2]\n",
    "    return nn.Sequential(*layers)"
   ]
  }
 ],
 "metadata": {
  "kernelspec": {
   "display_name": "Python 3",
   "language": "python",
   "name": "python3"
  }
 },
 "nbformat": 4,
 "nbformat_minor": 5
}
